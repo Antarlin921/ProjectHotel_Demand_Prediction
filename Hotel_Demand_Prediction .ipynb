{
 "cells": [
  {
   "cell_type": "code",
   "execution_count": 1,
   "metadata": {},
   "outputs": [
    {
     "ename": "SyntaxError",
     "evalue": "invalid syntax (Temp/ipykernel_24228/113007841.py, line 1)",
     "output_type": "error",
     "traceback": [
      "\u001b[1;36m  File \u001b[1;32m\"C:\\Users\\antar\\AppData\\Local\\Temp/ipykernel_24228/113007841.py\"\u001b[1;36m, line \u001b[1;32m1\u001b[0m\n\u001b[1;33m    Goal:Hotel Demand Predition\u001b[0m\n\u001b[1;37m               ^\u001b[0m\n\u001b[1;31mSyntaxError\u001b[0m\u001b[1;31m:\u001b[0m invalid syntax\n"
     ]
    }
   ],
   "source": [
    "Goal:Hotel Demand Predition"
   ]
  },
  {
   "cell_type": "code",
   "execution_count": null,
   "metadata": {},
   "outputs": [],
   "source": [
    "# Proceedure:\n",
    "<!-- #### <a id='# Data_Expolaration'> Data Expolaration</a> -->\n",
    "\n",
    "#### [Data Expolaration](#Data_Expolaration)\n",
    "\n",
    "    0.1 Overall Data Expolaration\n",
    "    0.2 Data Seperation Based on Types\n",
    "\n",
    "#### 1. Data Cleaning \n",
    "    1.1 Outlier Detection and Capping\n",
    "    1.2 Missing Value Treatment\n",
    "    1.3 Correlation Analysis\n",
    "\n",
    "#### 2. Feature Engineering\n",
    "    2.1 GeneratingNew Feature\n",
    "    2.2 Zero Variance Check\n",
    "    2.3 Univariate Analysis\n",
    "    2.4 Bi Variate Analysi\n",
    "    2.5 Feature Selection\n",
    "\n",
    "#### 3. Model Building\n",
    "    3.1 Random Forest Classifier\n",
    "    3.2 DecisionTree Classifier\n",
    "    3.3 Logistic Regression\n",
    "    3.4 GradientBoosing Classifier (Bagging)\n",
    "    3.5 XG Boost Classifier\n",
    "    3.6 Stacking Classifier\n",
    "\n",
    "#### 4. Evaluation\n",
    "    4.1 Metric Evaluation (Accuracy, Precision, Recall, F1-score, ROC Curve) \n",
    "    4.2 Model Comparison\n",
    "  \n",
    "\n",
    "*******************************************************************"
   ]
  },
  {
   "cell_type": "code",
   "execution_count": null,
   "metadata": {},
   "outputs": [],
   "source": []
  },
  {
   "cell_type": "code",
   "execution_count": null,
   "metadata": {},
   "outputs": [],
   "source": []
  },
  {
   "cell_type": "code",
   "execution_count": null,
   "metadata": {},
   "outputs": [],
   "source": []
  }
 ],
 "metadata": {
  "interpreter": {
   "hash": "e42634819b8c191a5d07eaf23810ff32516dd8d3875f28ec3e488928fbd3c187"
  },
  "kernelspec": {
   "display_name": "Python 3.9.7 ('base')",
   "language": "python",
   "name": "python3"
  },
  "language_info": {
   "codemirror_mode": {
    "name": "ipython",
    "version": 3
   },
   "file_extension": ".py",
   "mimetype": "text/x-python",
   "name": "python",
   "nbconvert_exporter": "python",
   "pygments_lexer": "ipython3",
   "version": "3.9.7"
  }
 },
 "nbformat": 4,
 "nbformat_minor": 2
}
